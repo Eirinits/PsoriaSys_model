{
 "cells": [
  {
   "cell_type": "code",
   "execution_count": null,
   "id": "0fbbe945",
   "metadata": {},
   "outputs": [],
   "source": [
    "import matplotlib.pyplot as plt\n",
    "from matplotlib.pyplot import figure\n",
    "import pandas as pd\n",
    "import numpy as np\n",
    "import maboss\n",
    "import time\n",
    "import datetime"
   ]
  },
  {
   "cell_type": "code",
   "execution_count": null,
   "id": "918381a7",
   "metadata": {},
   "outputs": [],
   "source": [
    "file = \"PsoriaSys\"\n",
    "\n",
    "bnd_file = file+\".bnd\"\n",
    "cfg_file = file+\".cfg\"\n",
    "upp_file = file+\".upp\"\n",
    "\n",
    "model_init = maboss.load(bnd_file,cfg_file)\n",
    "\n",
    "sim_init = maboss.UpdatePopulation(model_init,upp_file)"
   ]
  },
  {
   "cell_type": "code",
   "execution_count": null,
   "id": "985b4e0b",
   "metadata": {},
   "outputs": [],
   "source": [
    "%time res_init = sim_init.run(cmaboss = True)"
   ]
  },
  {
   "cell_type": "code",
   "execution_count": null,
   "id": "696726d0",
   "metadata": {},
   "outputs": [],
   "source": [
    "table_init = res_init.get_nodes_stepwise_probability_distribution(['KC', 'LC', 'aKC', 'Prol_KC', 'Diff_KC', 'preDiff_KC', 'pDC', 'iDC', 'M1', 'M2', 'Neutrophil', 'Th0', 'Th1', 'Th2', 'Th17', 'Th22', 'Treg', 'Fibroblast', 'Division', 'Death'])"
   ]
  },
  {
   "cell_type": "code",
   "execution_count": null,
   "id": "0a8059fc",
   "metadata": {},
   "outputs": [],
   "source": [
    "model_per = maboss.load(bnd_file,cfg_file)\n",
    "\n",
    "sim_CTLA4 = maboss.UpdatePopulation(model_per, upp_file)\n",
    "res_CTLA4 = sim_CTLA4.run(cmaboss = True)\n",
    "table_CTLA4 = res_CTLA4.get_nodes_stepwise_probability_distribution(['KC', 'LC', 'aKC', 'Prol_KC', 'Diff_KC', 'preDiff_KC', 'pDC', 'iDC', 'M1', 'M2', 'Neutrophil', 'Th0', 'Th1', 'Th2', 'Th17', 'Th22', 'Treg', 'Fibroblast', 'Division', 'Death'])\n",
    "table_CTLA4"
   ]
  },
  {
   "cell_type": "code",
   "execution_count": null,
   "id": "cc3abaaf",
   "metadata": {},
   "outputs": [],
   "source": [
    "fig, axes = plt.subplots(nrows=4, ncols=1, figsize=(5, 15))\n",
    "\n",
    "axes[0].plot(table_CTLA4['PopRatio']*table_CTLA4['KC'],'.-r',label=\"Normal KC\")\n",
    "axes[0].plot(table_CTLA4['PopRatio']*table_CTLA4['Prol_KC'],'.-b',label=\"Proliferating KC\")\n",
    "axes[0].plot(table_CTLA4['PopRatio']*table_CTLA4['preDiff_KC'],'.-g',label=\"Predifferentiated KC\")\n",
    "axes[0].plot(table_CTLA4['PopRatio']*table_CTLA4['Diff_KC'],'orange',label=\"Terminally differentiated KC\")\n",
    "axes[0].set_ylim([0, 2.5])\n",
    "axes[0].set_ylabel('Relative population size')\n",
    "\n",
    "axes[1].plot(table_CTLA4['pDC'],'-.m',label=\"pDC\")\n",
    "axes[1].plot(table_CTLA4['iDC'],'.-c',label=\"DendriticCell\")\n",
    "axes[1].plot(table_CTLA4['M1'],'orange', label=\"M1 Macrophage\")\n",
    "axes[1].plot(table_CTLA4['M2'],'red', label=\"M2 Macrophage\")\n",
    "axes[1].plot(table_CTLA4['Fibroblast'],'magenta', label=\"Fibroblast\")\n",
    "axes[1].plot(table_CTLA4['Neutrophil'],'blue', label=\"Neutrophil\")\n",
    "\n",
    "axes[2].plot(table_CTLA4['Th0'],'.-r',label=\"Th0\")\n",
    "axes[2].plot(table_CTLA4['Treg'],'orange',label=\"Treg\")\n",
    "axes[2].plot(table_CTLA4['Th1'],'.-y',label=\"Th1\")\n",
    "axes[2].plot(table_CTLA4['Th2'],'magenta',label=\"Th2\")\n",
    "axes[2].plot(table_CTLA4['Th17'],'.-b',label=\"Th17\")\n",
    "axes[2].plot(table_CTLA4['Th22'],'.-g',label=\"Th22\")\n",
    "\n",
    "axes[3].plot(table_CTLA4['CTLA4'],'.-r',label=\"CTLA4\")\n",
    "axes[3].plot(table_CTLA4['CD28'],'orange',label=\"CD28\")\n",
    "axes[3].plot(table_CTLA4['Th0'],'.-y',label=\"Th0\")\n",
    "axes[3].plot(table_CTLA4['CD80'],'b',label=\"CD80\")"
   ]
  },
  {
   "cell_type": "code",
   "execution_count": null,
   "id": "3f46c541",
   "metadata": {},
   "outputs": [],
   "source": [
    "table_CTLA4.to_csv('output/CTLA4_effect/traj_CTLA4.csv')"
   ]
  }
 ],
 "metadata": {
  "kernelspec": {
   "display_name": "Python 3",
   "language": "python",
   "name": "python3"
  },
  "language_info": {
   "codemirror_mode": {
    "name": "ipython",
    "version": 3
   },
   "file_extension": ".py",
   "mimetype": "text/x-python",
   "name": "python",
   "nbconvert_exporter": "python",
   "pygments_lexer": "ipython3",
   "version": "3.7.11"
  }
 },
 "nbformat": 4,
 "nbformat_minor": 5
}
