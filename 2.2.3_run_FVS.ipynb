{
 "cells": [
  {
   "cell_type": "markdown",
   "id": "018e5aaa",
   "metadata": {},
   "source": [
    "## Combinatorial perturbations\n",
    "\n",
    "### This notebook contains the code for running the combinatorial perturbations identified by the minimum FVS analysis (see notebook 2.2.1_identify_FVS_subsets.ipynb)"
   ]
  },
  {
   "cell_type": "code",
   "execution_count": 1,
   "id": "ae371c14",
   "metadata": {},
   "outputs": [],
   "source": [
    "import matplotlib.pyplot as plt\n",
    "from matplotlib.pyplot import figure\n",
    "import pandas as pd\n",
    "import numpy as np\n",
    "import maboss\n",
    "import time\n",
    "import datetime"
   ]
  },
  {
   "cell_type": "code",
   "execution_count": 2,
   "id": "2f170010",
   "metadata": {},
   "outputs": [
    {
     "name": "stdout",
     "output_type": "stream",
     "text": [
      "CPU times: user 12min, sys: 21.8 s, total: 12min 21s\n",
      "Wall time: 12min 21s\n"
     ]
    }
   ],
   "source": [
    "file = \"PsoriaSys\"\n",
    "\n",
    "bnd_file = file+\".bnd\"\n",
    "cfg_file = file+\".cfg\"\n",
    "upp_file = file+\".upp\"\n",
    "\n",
    "model_init = maboss.load(bnd_file,cfg_file)\n",
    "\n",
    "sim_init = maboss.UpdatePopulation(model_init,upp_file)\n",
    "%time res_init = sim_init.run(cmaboss = True)"
   ]
  },
  {
   "cell_type": "code",
   "execution_count": 10,
   "id": "ace420ed",
   "metadata": {},
   "outputs": [
    {
     "name": "stdout",
     "output_type": "stream",
     "text": [
      "    PRINCE..ModPRINCE..CheiRank Target1_tr  Target2_tr\n",
      "0                            97      STAT3  Neutrophil\n",
      "1                            95       IL17  Neutrophil\n",
      "3                            94      STAT3        PGE2\n",
      "5                            93       IL17       STAT3\n",
      "6                            92       PGE2  Neutrophil\n",
      "8                            89      STAT3        TNFa\n",
      "9                            88        IL4  Neutrophil\n",
      "10                           87       TNFa  Neutrophil\n",
      "11                           86       IFNg  Neutrophil\n",
      "12                           86      STAT3         IL4\n",
      "13                           86       IL17        PGE2\n",
      "15                           84      STAT3        IL10\n",
      "16                           84      STAT3        IFNg\n"
     ]
    }
   ],
   "source": [
    "per_pairs = pd.read_csv('output/FVS_analysis/Top20_pairs.csv',sep= \" \")\n",
    "per_pairs\n",
    "\n",
    "# create vector of Receptor nodes to be removed\n",
    "vec = np.array(['IL17R', 'TNFAR','IFNGR','IL10R'])\n",
    "\n",
    "mask = per_pairs.isin(vec).any(axis=1)\n",
    "\n",
    "# use boolean indexing to remove the rows that contain any of the values\n",
    "per_pairs = per_pairs[~mask]\n",
    "\n",
    "# print the resulting DataFrame\n",
    "print(per_pairs)"
   ]
  },
  {
   "cell_type": "code",
   "execution_count": 6,
   "id": "e1f35564",
   "metadata": {},
   "outputs": [
    {
     "name": "stdout",
     "output_type": "stream",
     "text": [
      "Done with IL17_PGE2\n",
      "Done with STAT3_IL10\n",
      "Done with TNFa_Neutrophil\n"
     ]
    }
   ],
   "source": [
    "model_per = maboss.load(bnd_file,cfg_file)\n",
    "\n",
    "for idx, row in per_pairs.iterrows():\n",
    "    A = row['Target1_tr']\n",
    "    B = row['Target2_tr']\n",
    "    \n",
    "    model_A_B = model_per.copy()\n",
    "    model_A_B.mutate(A, \"OFF\")\n",
    "    model_A_B.mutate(B, \"OFF\")\n",
    "    \n",
    "    sim_A_B = maboss.UpdatePopulation(model_A_B, upp_file, previous_run=res_init)\n",
    "    res_A_B = sim_A_B.run(cmaboss=True)\n",
    "    table_A_B = res_A_B.get_nodes_stepwise_probability_distribution(['KC', 'LC', 'aKC', 'Prol_KC', 'Diff_KC', 'preDiff_KC', 'pDC', 'iDC', 'M1', 'M2', 'Neutrophil', 'ILC3','Th0', 'Th1', 'Th2', 'Th17', 'Th22', 'Treg', 'Fibroblast', 'Division', 'Death'])\n",
    "    table_A_B.to_csv(f'table_{A}_{B}_FVS_all_cells.csv')\n",
    "    \n",
    "    print(f\"Done with {A}_{B}\")"
   ]
  }
 ],
 "metadata": {
  "kernelspec": {
   "display_name": "Python 3",
   "language": "python",
   "name": "python3"
  },
  "language_info": {
   "codemirror_mode": {
    "name": "ipython",
    "version": 3
   },
   "file_extension": ".py",
   "mimetype": "text/x-python",
   "name": "python",
   "nbconvert_exporter": "python",
   "pygments_lexer": "ipython3",
   "version": "3.7.11"
  }
 },
 "nbformat": 4,
 "nbformat_minor": 5
}
